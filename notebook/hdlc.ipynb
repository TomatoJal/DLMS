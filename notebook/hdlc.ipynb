{
 "cells": [
  {
   "cell_type": "code",
   "execution_count": 1,
   "metadata": {
    "ExecuteTime": {
     "end_time": "2020-01-14T08:01:42.503689Z",
     "start_time": "2020-01-14T08:01:42.500689Z"
    }
   },
   "outputs": [],
   "source": [
    "import sys\n",
    "sys.path.append('../')"
   ]
  },
  {
   "cell_type": "markdown",
   "metadata": {},
   "source": [
    "# Testdoc"
   ]
  },
  {
   "cell_type": "markdown",
   "metadata": {},
   "source": [
    "测试函数"
   ]
  },
  {
   "cell_type": "code",
   "execution_count": 2,
   "metadata": {
    "ExecuteTime": {
     "end_time": "2020-01-14T08:01:42.515648Z",
     "start_time": "2020-01-14T08:01:42.505676Z"
    }
   },
   "outputs": [],
   "source": [
    "def test(cls):\n",
    "    for key in cls.get_info:\n",
    "        print(cls.get_info[key].info)"
   ]
  },
  {
   "cell_type": "markdown",
   "metadata": {},
   "source": [
    "# Frame"
   ]
  },
  {
   "cell_type": "code",
   "execution_count": 3,
   "metadata": {
    "ExecuteTime": {
     "end_time": "2020-01-14T08:01:42.532604Z",
     "start_time": "2020-01-14T08:01:42.518641Z"
    }
   },
   "outputs": [],
   "source": [
    "from hdlc import * "
   ]
  },
  {
   "cell_type": "markdown",
   "metadata": {},
   "source": [
    "## Frame 1"
   ]
  },
  {
   "cell_type": "markdown",
   "metadata": {},
   "source": [
    "### StoC"
   ]
  },
  {
   "cell_type": "code",
   "execution_count": 4,
   "metadata": {
    "ExecuteTime": {
     "end_time": "2020-01-14T08:01:42.542577Z",
     "start_time": "2020-01-14T08:01:42.533600Z"
    },
    "scrolled": false
   },
   "outputs": [
    {
     "name": "stdout",
     "output_type": "stream",
     "text": [
      "flag: 7E\n",
      "format type: 0A,segmentation: 0,frame length sub-field: 33\n",
      "dest address: 17\n",
      "src address: 16\n",
      "SNRM frame, Poll: 1\n",
      "HCS: 0x5548\n",
      "information：81 80 14 05 02 07 EE 06 02 07 EE 07 04 00 00 00 01 08 04 00 00 00 01\n",
      "FCS: 0xD4B5\n"
     ]
    }
   ],
   "source": [
    "test(hdlc('7E A0 21 02 23 21 93 48 55 81 80 14 05 02 07 EE 06 02 07 EE 07 04 00 00 00 01 08 04 00 00 00 01 B5 D4 7E'))"
   ]
  },
  {
   "cell_type": "markdown",
   "metadata": {},
   "source": [
    "#### SNRM"
   ]
  },
  {
   "cell_type": "code",
   "execution_count": 5,
   "metadata": {
    "ExecuteTime": {
     "end_time": "2020-01-14T08:01:42.548560Z",
     "start_time": "2020-01-14T08:01:42.544573Z"
    }
   },
   "outputs": [
    {
     "name": "stdout",
     "output_type": "stream",
     "text": [
      "information：81 80 14 05 02 07 EE 06 02 07 EE 07 04 00 00 00 01 08 04 00 00 00 01\n",
      "format_identifier：81\n",
      "group_identifier：80\n",
      "group_length：20\n",
      "maximum information field length – transmit：2030\n",
      "maximum information field length – receive：2030\n",
      "window size, transmit：1\n",
      "window size, receive：1\n"
     ]
    }
   ],
   "source": [
    "test(SNRMorUAInfo('81 80 14 05 02 07 EE 06 02 07 EE 07 04 00 00 00 01 08 04 00 00 00 01'))"
   ]
  },
  {
   "cell_type": "markdown",
   "metadata": {},
   "source": [
    "### CtoS"
   ]
  },
  {
   "cell_type": "code",
   "execution_count": 6,
   "metadata": {
    "ExecuteTime": {
     "end_time": "2020-01-14T08:01:42.556575Z",
     "start_time": "2020-01-14T08:01:42.550558Z"
    },
    "scrolled": false
   },
   "outputs": [
    {
     "name": "stdout",
     "output_type": "stream",
     "text": [
      "flag: 7E\n",
      "format type: 0A,segmentation: 0,frame length sub-field: 33\n",
      "dest address: 16\n",
      "src address: 17\n",
      "UA frame, Final: 1\n",
      "HCS: 0x728F\n",
      "information：81 80 14 05 02 04 CB 06 02 04 CB 07 04 00 00 00 01 08 04 00 00 00 01\n",
      "FCS: 0xB1FB\n"
     ]
    }
   ],
   "source": [
    "test(hdlc('7E A0 21 21 02 23 73 8F 72 81 80 14 05 02 04 CB 06 02 04 CB 07 04 00 00 00 01 08 04 00 00 00 01 FB B1 7E'))"
   ]
  },
  {
   "cell_type": "markdown",
   "metadata": {},
   "source": [
    "#### UA"
   ]
  },
  {
   "cell_type": "code",
   "execution_count": 7,
   "metadata": {
    "ExecuteTime": {
     "end_time": "2020-01-14T08:01:42.675223Z",
     "start_time": "2020-01-14T08:01:42.670235Z"
    }
   },
   "outputs": [
    {
     "name": "stdout",
     "output_type": "stream",
     "text": [
      "information：81 80 14 05 02 04 CB 06 02 04 CB 07 04 00 00 00 01 08 04 00 00 00 01\n",
      "format_identifier：81\n",
      "group_identifier：80\n",
      "group_length：20\n",
      "maximum information field length – transmit：1227\n",
      "maximum information field length – receive：1227\n",
      "window size, transmit：1\n",
      "window size, receive：1\n"
     ]
    }
   ],
   "source": [
    "test(SNRMorUAInfo('81 80 14 05 02 04 CB 06 02 04 CB 07 04 00 00 00 01 08 04 00 00 00 01'))"
   ]
  },
  {
   "cell_type": "markdown",
   "metadata": {},
   "source": [
    "## Frame 2"
   ]
  },
  {
   "cell_type": "markdown",
   "metadata": {},
   "source": [
    "### StoC"
   ]
  },
  {
   "cell_type": "code",
   "execution_count": 8,
   "metadata": {
    "ExecuteTime": {
     "end_time": "2020-01-14T08:01:42.571500Z",
     "start_time": "2020-01-14T08:01:42.566513Z"
    },
    "scrolled": false
   },
   "outputs": [
    {
     "name": "stdout",
     "output_type": "stream",
     "text": [
      "flag: 7E\n",
      "format type: 0A,segmentation: 0,frame length sub-field: 56\n",
      "dest address: 17\n",
      "src address: 16\n",
      "I frame, receive: 0, send: 0, P/F: 1\n",
      "HCS: 0x06FF\n",
      "information：E6 E6 00 60 29 A1 09 06 07 60 85 74 05 08 01 01 A6 0A 04 08 00 00 00 00 00 00 98 00 BE 10 04 0E 01 00 00 00 06 5F 1F 04 00 00 1F 3F FF FD\n",
      "FCS: 0xFED6\n"
     ]
    }
   ],
   "source": [
    "test(hdlc('7E A0 38 02 23 21 10 FF 06 E6 E6 00 60 29 A1 09 06 07 60 85 74 05 08 01 01 A6 0A 04 08 00 00 00 00 00 00 98 00 BE 10 04 0E 01 00 00 00 06 5F 1F 04 00 00 1F 3F FF FD D6 FE 7E'))"
   ]
  },
  {
   "cell_type": "markdown",
   "metadata": {},
   "source": [
    "#### I"
   ]
  },
  {
   "cell_type": "code",
   "execution_count": 9,
   "metadata": {
    "ExecuteTime": {
     "end_time": "2020-01-14T08:01:42.579478Z",
     "start_time": "2020-01-14T08:01:42.573495Z"
    }
   },
   "outputs": [
    {
     "name": "stdout",
     "output_type": "stream",
     "text": [
      "information：E6 E6 00 60 29 A1 09 06 07 60 85 74 05 08 01 01 A6 0A 04 08 00 00 00 00 00 00 98 00 BE 10 04 0E 01 00 00 00 06 5F 1F 04 00 00 1F 3F FF FD\n",
      "Destination_LSAP：E6\n",
      "Source_LASP：E6\n",
      "LLC_Quality：0\n",
      "I_Information: 60 29 A1 09 06 07 60 85 74 05 08 01 01 A6 0A 04 08 00 00 00 00 00 00 98 00 BE 10 04 0E 01 00 00 00 06 5F 1F 04 00 00 1F 3F FF FD\n"
     ]
    }
   ],
   "source": [
    "test(IInfo('E6 E6 00 60 29 A1 09 06 07 60 85 74 05 08 01 01 A6 0A 04 08 00 00 00 00 00 00 98 00 BE 10 04 0E 01 00 00 00 06 5F 1F 04 00 00 1F 3F FF FD'))"
   ]
  },
  {
   "cell_type": "markdown",
   "metadata": {},
   "source": [
    "```xml    \n",
    "<AssociationRequest>\n",
    "  <ApplicationContextName Value=\"LN\" />\n",
    "  <CallingAPTitle Value=\"0000000000009800\" />\n",
    "  <InitiateRequest>\n",
    "    <ProposedDlmsVersionNumber Value=\"06\" />\n",
    "    <ProposedConformance>\n",
    "      <ConformanceBit Name=\"Action\" />\n",
    "      <ConformanceBit Name=\"EventNotification\" />\n",
    "      <ConformanceBit Name=\"SelectiveAccess\" />\n",
    "      <ConformanceBit Name=\"Set\" />\n",
    "      <ConformanceBit Name=\"Get\" />\n",
    "      <ConformanceBit Name=\"ParameterizedAccess\" />\n",
    "      <ConformanceBit Name=\"InformationReport\" />\n",
    "      <ConformanceBit Name=\"MultipleReferences\" />\n",
    "      <ConformanceBit Name=\"BlockTransferWithAction\" />\n",
    "      <ConformanceBit Name=\"BlockTransferWithSet\" />\n",
    "      <ConformanceBit Name=\"BlockTransferWithGet\" />\n",
    "    </ProposedConformance>\n",
    "    <ProposedMaxPduSize Value=\"FFFD\" />\n",
    "  </InitiateRequest>\n",
    "</AssociationRequest>\n",
    "```"
   ]
  },
  {
   "cell_type": "markdown",
   "metadata": {},
   "source": [
    "### CtoS"
   ]
  },
  {
   "cell_type": "code",
   "execution_count": 10,
   "metadata": {
    "ExecuteTime": {
     "end_time": "2020-01-14T08:01:42.586459Z",
     "start_time": "2020-01-14T08:01:42.581473Z"
    },
    "scrolled": true
   },
   "outputs": [
    {
     "name": "stdout",
     "output_type": "stream",
     "text": [
      "flag: 7E\n",
      "format type: 0A,segmentation: 0,frame length sub-field: 68\n",
      "dest address: 16\n",
      "src address: 17\n",
      "I frame, receive: 1, send: 0, P/F: 1\n",
      "HCS: 0x85F7\n",
      "information：E6 E7 00 61 35 A1 09 06 07 60 85 74 05 08 01 01 A2 03 02 01 00 A3 05 A1 03 02 01 00 A4 0A 04 08 4B 46 4D 67 70 00 00 0C BE 10 04 0E 08 00 06 5F 1F 04 00 00 10 19 04 C8 00 07\n",
      "FCS: 0xE720\n"
     ]
    }
   ],
   "source": [
    "test(hdlc('7E A0 44 21 02 23 30 F7 85 E6 E7 00 61 35 A1 09 06 07 60 85 74 05 08 01 01 A2 03 02 01 00 A3 05 A1 03 02 01 00 A4 0A 04 08 4B 46 4D 67 70 00 00 0C BE 10 04 0E 08 00 06 5F 1F 04 00 00 10 19 04 C8 00 07 20 E7 7E'))"
   ]
  },
  {
   "cell_type": "markdown",
   "metadata": {},
   "source": [
    "#### I"
   ]
  },
  {
   "cell_type": "code",
   "execution_count": 26,
   "metadata": {
    "ExecuteTime": {
     "end_time": "2020-01-14T08:03:12.586991Z",
     "start_time": "2020-01-14T08:03:12.580992Z"
    }
   },
   "outputs": [
    {
     "name": "stdout",
     "output_type": "stream",
     "text": [
      "information：E6 E7 00 61 35 A1 09 06 07 60 85 74 05 08 01 01 A2 03 02 01 00 A3 05 A1 03 02 01 00 A4 0A 04 08 4B 46 4D 67 70 00 00 0C BE 10 04 0E 08 00 06 5F 1F 04 00 00 10 19 04 C8 00 07\n",
      "Destination_LSAP：E6\n",
      "Source_LASP：E7\n",
      "LLC_Quality：0\n",
      "I_Information: 61 35 A1 09 06 07 60 85 74 05 08 01 01 A2 03 02 01 00 A3 05 A1 03 02 01 00 A4 0A 04 08 4B 46 4D 67 70 00 00 0C BE 10 04 0E 08 00 06 5F 1F 04 00 00 10 19 04 C8 00 07\n"
     ]
    }
   ],
   "source": [
    "test(IInfo('E6 E7 00 61 35 A1 09 06 07 60 85 74 05 08 01 01 A2 03 02 01 00 A3 05 A1 03 02 01 00 A4 0A 04 08 4B 46 4D 67 70 00 00 0C BE 10 04 0E 08 00 06 5F 1F 04 00 00 10 19 04 C8 00 07'))"
   ]
  },
  {
   "cell_type": "markdown",
   "metadata": {},
   "source": [
    "```XML\n",
    "<AssociationResponse>\n",
    "  <ApplicationContextName Value=\"LN\" />\n",
    "  <RespondingAPTitle Value=\"4B464D677000000C\" />\n",
    "  <AssociationResult Value=\"00\" />\n",
    "  <ResultSourceDiagnostic>\n",
    "    <AcseServiceUser Value=\"00\" />\n",
    "  </ResultSourceDiagnostic>\n",
    "  <InitiateResponse>\n",
    "    <NegotiatedDlmsVersionNumber Value=\"06\" />\n",
    "    <NegotiatedConformance>\n",
    "      <ConformanceBit Name=\"Action\" />\n",
    "      <ConformanceBit Name=\"Set\" />\n",
    "      <ConformanceBit Name=\"Get\" />\n",
    "      <ConformanceBit Name=\"BlockTransferWithGet\" />\n",
    "    </NegotiatedConformance>\n",
    "    <NegotiatedMaxPduSize Value=\"04C8\" />\n",
    "    <VaaName Value=\"0007\" />\n",
    "  </InitiateResponse>\n",
    "</AssociationResponse>\n",
    "```"
   ]
  },
  {
   "cell_type": "markdown",
   "metadata": {},
   "source": [
    "## Frame 3"
   ]
  },
  {
   "cell_type": "markdown",
   "metadata": {},
   "source": [
    "### StoC"
   ]
  },
  {
   "cell_type": "code",
   "execution_count": 11,
   "metadata": {
    "ExecuteTime": {
     "end_time": "2020-01-14T08:01:42.595446Z",
     "start_time": "2020-01-14T08:01:42.588454Z"
    },
    "scrolled": true
   },
   "outputs": [
    {
     "name": "stdout",
     "output_type": "stream",
     "text": [
      "flag: 7E\n",
      "format type: 0A,segmentation: 0,frame length sub-field: 26\n",
      "dest address: 17\n",
      "src address: 16\n",
      "I frame, receive: 1, send: 0, P/F: 1\n",
      "HCS: 0x72F6\n",
      "information：E6 E6 00 C0 01 C1 00 01 00 00 2B 01 00 FF 02 00\n",
      "FCS: 0x8F7D\n"
     ]
    }
   ],
   "source": [
    "test(hdlc('7E A0 1A 02 23 21 32 F6 72 E6 E6 00 C0 01 C1 00 01 00 00 2B 01 00 FF 02 00 7D 8F 7E'))"
   ]
  },
  {
   "cell_type": "markdown",
   "metadata": {},
   "source": [
    "#### I"
   ]
  },
  {
   "cell_type": "code",
   "execution_count": 27,
   "metadata": {
    "ExecuteTime": {
     "end_time": "2020-01-14T08:03:57.312099Z",
     "start_time": "2020-01-14T08:03:57.308148Z"
    }
   },
   "outputs": [
    {
     "name": "stdout",
     "output_type": "stream",
     "text": [
      "information：E6 E6 00 C0 01 C1 00 01 00 00 2B 01 00 FF 02 00\n",
      "Destination_LSAP：E6\n",
      "Source_LASP：E6\n",
      "LLC_Quality：0\n",
      "I_Information: C0 01 C1 00 01 00 00 2B 01 00 FF 02 00\n"
     ]
    }
   ],
   "source": [
    "test(IInfo('E6 E6 00 C0 01 C1 00 01 00 00 2B 01 00 FF 02 00'))"
   ]
  },
  {
   "cell_type": "markdown",
   "metadata": {},
   "source": [
    "```xml    \n",
    "<GetRequest>\n",
    "  <GetRequestNormal>\n",
    "    <InvokeIdAndPriority Value=\"C1\" />\n",
    "    <AttributeDescriptor>\n",
    "      <ClassId Value=\"0001\" />\n",
    "      <InstanceId Value=\"00002B0100FF\" />\n",
    "      <AttributeId Value=\"02\" />\n",
    "    </AttributeDescriptor>\n",
    "  </GetRequestNormal>\n",
    "</GetRequest>\n",
    "```"
   ]
  },
  {
   "cell_type": "markdown",
   "metadata": {},
   "source": [
    "### CtoS"
   ]
  },
  {
   "cell_type": "code",
   "execution_count": 12,
   "metadata": {
    "ExecuteTime": {
     "end_time": "2020-01-14T08:01:42.603422Z",
     "start_time": "2020-01-14T08:01:42.598428Z"
    },
    "scrolled": true
   },
   "outputs": [
    {
     "name": "stdout",
     "output_type": "stream",
     "text": [
      "flag: 7E\n",
      "format type: 0A,segmentation: 0,frame length sub-field: 22\n",
      "dest address: 16\n",
      "src address: 17\n",
      "I frame, receive: 2, send: 0, P/F: 1\n",
      "HCS: 0xA609\n",
      "information：E6 E7 00 C4 01 C1 00 06 00 00 00 00\n",
      "FCS: 0x187D\n"
     ]
    }
   ],
   "source": [
    "test(hdlc('7E A0 16 21 02 23 52 09 A6 E6 E7 00 C4 01 C1 00 06 00 00 00 00 7D 18 7E'))"
   ]
  },
  {
   "cell_type": "code",
   "execution_count": 28,
   "metadata": {
    "ExecuteTime": {
     "end_time": "2020-01-14T08:04:15.954345Z",
     "start_time": "2020-01-14T08:04:15.948363Z"
    }
   },
   "outputs": [
    {
     "name": "stdout",
     "output_type": "stream",
     "text": [
      "information：E6 E7 00 C4 01 C1 00 06 00 00 00 00\n",
      "Destination_LSAP：E6\n",
      "Source_LASP：E7\n",
      "LLC_Quality：0\n",
      "I_Information: C4 01 C1 00 06 00 00 00 00\n"
     ]
    }
   ],
   "source": [
    "test(IInfo('E6 E7 00 C4 01 C1 00 06 00 00 00 00'))"
   ]
  },
  {
   "cell_type": "markdown",
   "metadata": {
    "ExecuteTime": {
     "end_time": "2020-01-14T08:18:11.928116Z",
     "start_time": "2020-01-14T08:18:11.922134Z"
    }
   },
   "source": [
    "```xml\n",
    "<GetResponse>\n",
    "  <GetResponsenormal>\n",
    "    <InvokeIdAndPriority Value=\"C1\" />\n",
    "    <Result>\n",
    "      <Data>\n",
    "        <DoubleLongUnsigned Value=\"00000000\" />\n",
    "      </Data>\n",
    "    </Result>\n",
    "  </GetResponsenormal>\n",
    "</GetResponse>\n",
    "```"
   ]
  },
  {
   "cell_type": "markdown",
   "metadata": {},
   "source": [
    "## Frame 4"
   ]
  },
  {
   "cell_type": "markdown",
   "metadata": {},
   "source": [
    "### StoC"
   ]
  },
  {
   "cell_type": "code",
   "execution_count": 13,
   "metadata": {
    "ExecuteTime": {
     "end_time": "2020-01-14T08:01:42.614419Z",
     "start_time": "2020-01-14T08:01:42.607403Z"
    },
    "scrolled": true
   },
   "outputs": [
    {
     "name": "stdout",
     "output_type": "stream",
     "text": [
      "flag: 7E\n",
      "format type: 0A,segmentation: 0,frame length sub-field: 26\n",
      "dest address: 17\n",
      "src address: 16\n",
      "I frame, receive: 2, send: 0, P/F: 1\n",
      "HCS: 0x74C6\n",
      "information：E6 E6 00 C0 01 C1 00 01 00 00 60 01 00 FF 02 00\n",
      "FCS: 0xA089\n"
     ]
    }
   ],
   "source": [
    "test(hdlc('7E A0 1A 02 23 21 54 C6 74 E6 E6 00 C0 01 C1 00 01 00 00 60 01 00 FF 02 00 89 A0 7E'))"
   ]
  },
  {
   "cell_type": "markdown",
   "metadata": {},
   "source": [
    "#### I"
   ]
  },
  {
   "cell_type": "code",
   "execution_count": 28,
   "metadata": {
    "ExecuteTime": {
     "end_time": "2020-01-14T08:22:00.387501Z",
     "start_time": "2020-01-14T08:22:00.382515Z"
    },
    "scrolled": true
   },
   "outputs": [
    {
     "name": "stdout",
     "output_type": "stream",
     "text": [
      "information：E6 E7 00 C4 01 C1 00 06 00 00 00 00\n",
      "Destination_LSAP：E6\n",
      "Source_LASP：E7\n",
      "LLC_Quality：0\n",
      "I_Information: C4 01 C1 00 06 00 00 00 00\n"
     ]
    }
   ],
   "source": [
    "test(IInfo('E6 E7 00 C4 01 C1 00 06 00 00 00 00'))"
   ]
  },
  {
   "cell_type": "markdown",
   "metadata": {
    "ExecuteTime": {
     "end_time": "2020-01-14T08:18:11.928116Z",
     "start_time": "2020-01-14T08:18:11.922134Z"
    }
   },
   "source": [
    "```xml\n",
    "<GetResponse>\n",
    "  <GetResponsenormal>\n",
    "    <InvokeIdAndPriority Value=\"C1\" />\n",
    "    <Result>\n",
    "      <Data>\n",
    "        <DoubleLongUnsigned Value=\"00000000\" />\n",
    "      </Data>\n",
    "    </Result>\n",
    "  </GetResponsenormal>\n",
    "</GetResponse>\n",
    "```"
   ]
  },
  {
   "cell_type": "markdown",
   "metadata": {},
   "source": [
    "### CtoS"
   ]
  },
  {
   "cell_type": "code",
   "execution_count": 14,
   "metadata": {
    "ExecuteTime": {
     "end_time": "2020-01-14T08:01:42.621367Z",
     "start_time": "2020-01-14T08:01:42.616405Z"
    },
    "scrolled": false
   },
   "outputs": [
    {
     "name": "stdout",
     "output_type": "stream",
     "text": [
      "flag: 7E\n",
      "format type: 0A,segmentation: 0,frame length sub-field: 18\n",
      "dest address: 16\n",
      "src address: 17\n",
      "I frame, receive: 3, send: 0, P/F: 1\n",
      "HCS: 0xCF2D\n",
      "information：E6 E7 00 C4 01 C1 01 03\n",
      "FCS: 0x8273\n"
     ]
    }
   ],
   "source": [
    "test(hdlc('7E A0 12 21 02 23 74 2D CF E6 E7 00 C4 01 C1 01 03 73 82 7E'))"
   ]
  },
  {
   "cell_type": "markdown",
   "metadata": {},
   "source": [
    "#### I"
   ]
  },
  {
   "cell_type": "code",
   "execution_count": 33,
   "metadata": {
    "ExecuteTime": {
     "end_time": "2020-01-14T08:23:39.845403Z",
     "start_time": "2020-01-14T08:23:39.841417Z"
    },
    "scrolled": true
   },
   "outputs": [
    {
     "name": "stdout",
     "output_type": "stream",
     "text": [
      "information：E6 E7 00 C4 01 C1 01 03\n",
      "Destination_LSAP：E6\n",
      "Source_LASP：E7\n",
      "LLC_Quality：0\n",
      "I_Information: C4 01 C1 01 03\n"
     ]
    }
   ],
   "source": [
    "test(IInfo('E6 E7 00 C4 01 C1 01 03'))"
   ]
  },
  {
   "cell_type": "markdown",
   "metadata": {
    "ExecuteTime": {
     "end_time": "2020-01-14T08:18:11.928116Z",
     "start_time": "2020-01-14T08:18:11.922134Z"
    }
   },
   "source": [
    "```xml\n",
    "<GetResponse>\n",
    "  <GetResponsenormal>\n",
    "    <InvokeIdAndPriority Value=\"C1\" />\n",
    "    <Result>\n",
    "      <DataAccessError Value=\"ReadWriteDenied\" />\n",
    "    </Result>\n",
    "  </GetResponsenormal>\n",
    "</GetResponse>\n",
    "```"
   ]
  },
  {
   "cell_type": "markdown",
   "metadata": {},
   "source": [
    "## Frame 5"
   ]
  },
  {
   "cell_type": "markdown",
   "metadata": {},
   "source": [
    "### StoC"
   ]
  },
  {
   "cell_type": "code",
   "execution_count": 15,
   "metadata": {
    "ExecuteTime": {
     "end_time": "2020-01-14T08:01:42.628346Z",
     "start_time": "2020-01-14T08:01:42.623362Z"
    },
    "scrolled": false
   },
   "outputs": [
    {
     "name": "stdout",
     "output_type": "stream",
     "text": [
      "flag: 7E\n",
      "format type: 0A,segmentation: 0,frame length sub-field: 8\n",
      "dest address: 17\n",
      "src address: 16\n",
      "DISC frame, Poll: 1\n",
      "HCS: 0xA2B1\n",
      "information：\n",
      "No FCS\n"
     ]
    }
   ],
   "source": [
    "test(hdlc('7E A0 08 02 23 21 53 B1 A2 7E'))"
   ]
  },
  {
   "cell_type": "markdown",
   "metadata": {},
   "source": [
    "### CtoS"
   ]
  },
  {
   "cell_type": "code",
   "execution_count": 16,
   "metadata": {
    "ExecuteTime": {
     "end_time": "2020-01-14T08:01:42.636333Z",
     "start_time": "2020-01-14T08:01:42.630345Z"
    },
    "scrolled": true
   },
   "outputs": [
    {
     "name": "stdout",
     "output_type": "stream",
     "text": [
      "flag: 7E\n",
      "format type: 0A,segmentation: 0,frame length sub-field: 33\n",
      "dest address: 16\n",
      "src address: 17\n",
      "UA frame, Final: 1\n",
      "HCS: 0x728F\n",
      "information：81 80 14 05 02 04 CB 06 02 04 CB 07 04 00 00 00 01 08 04 00 00 00 01\n",
      "FCS: 0xB1FB\n"
     ]
    }
   ],
   "source": [
    "test(hdlc('7E A0 21 21 02 23 73 8F 72 81 80 14 05 02 04 CB 06 02 04 CB 07 04 00 00 00 01 08 04 00 00 00 01 FB B1 7E'))"
   ]
  },
  {
   "cell_type": "markdown",
   "metadata": {},
   "source": [
    "#### UA"
   ]
  },
  {
   "cell_type": "code",
   "execution_count": 17,
   "metadata": {
    "ExecuteTime": {
     "end_time": "2020-01-14T08:01:42.675223Z",
     "start_time": "2020-01-14T08:01:42.670235Z"
    }
   },
   "outputs": [
    {
     "name": "stdout",
     "output_type": "stream",
     "text": [
      "information：81 80 14 05 02 07 EE 06 02 07 EE 07 04 00 00 00 01 08 04 00 00 00 01\n",
      "format_identifier：81\n",
      "group_identifier：80\n",
      "group_length：20\n",
      "maximum information field length – transmit：2030\n",
      "maximum information field length – receive：2030\n",
      "window size, transmit：1\n",
      "window size, receive：1\n"
     ]
    }
   ],
   "source": [
    "test(SNRMorUAInfo('81 80 14 05 02 07 EE 06 02 07 EE 07 04 00 00 00 01 08 04 00 00 00 01'))"
   ]
  },
  {
   "cell_type": "markdown",
   "metadata": {},
   "source": [
    "## Frame 6"
   ]
  },
  {
   "cell_type": "markdown",
   "metadata": {},
   "source": [
    "### StoC"
   ]
  },
  {
   "cell_type": "code",
   "execution_count": 18,
   "metadata": {
    "ExecuteTime": {
     "end_time": "2020-01-14T08:01:42.650288Z",
     "start_time": "2020-01-14T08:01:42.644309Z"
    },
    "scrolled": false
   },
   "outputs": [
    {
     "name": "stdout",
     "output_type": "stream",
     "text": [
      "flag: 7E\n",
      "format type: 0A,segmentation: 0,frame length sub-field: 33\n",
      "dest address: 17\n",
      "src address: 1\n",
      "SNRM frame, Poll: 1\n",
      "HCS: 0x45CB\n",
      "information：81 80 14 05 02 07 EE 06 02 07 EE 07 04 00 00 00 01 08 04 00 00 00 01\n",
      "FCS: 0xD4B5\n"
     ]
    }
   ],
   "source": [
    "test(hdlc('7E A0 21 02 23 03 93 CB 45 81 80 14 05 02 07 EE 06 02 07 EE 07 04 00 00 00 01 08 04 00 00 00 01 B5 D4 7E'))"
   ]
  },
  {
   "cell_type": "markdown",
   "metadata": {},
   "source": [
    "#### SNRM"
   ]
  },
  {
   "cell_type": "code",
   "execution_count": 19,
   "metadata": {
    "ExecuteTime": {
     "end_time": "2020-01-14T08:01:42.675223Z",
     "start_time": "2020-01-14T08:01:42.670235Z"
    }
   },
   "outputs": [
    {
     "name": "stdout",
     "output_type": "stream",
     "text": [
      "information：81 80 14 05 02 07 EE 06 02 07 EE 07 04 00 00 00 01 08 04 00 00 00 01\n",
      "format_identifier：81\n",
      "group_identifier：80\n",
      "group_length：20\n",
      "maximum information field length – transmit：2030\n",
      "maximum information field length – receive：2030\n",
      "window size, transmit：1\n",
      "window size, receive：1\n"
     ]
    }
   ],
   "source": [
    "test(SNRMorUAInfo('81 80 14 05 02 07 EE 06 02 07 EE 07 04 00 00 00 01 08 04 00 00 00 01'))"
   ]
  },
  {
   "cell_type": "markdown",
   "metadata": {},
   "source": [
    "### CtoS"
   ]
  },
  {
   "cell_type": "code",
   "execution_count": 20,
   "metadata": {
    "ExecuteTime": {
     "end_time": "2020-01-14T08:01:42.668241Z",
     "start_time": "2020-01-14T08:01:42.663254Z"
    },
    "scrolled": true
   },
   "outputs": [
    {
     "name": "stdout",
     "output_type": "stream",
     "text": [
      "flag: 7E\n",
      "format type: 0A,segmentation: 0,frame length sub-field: 33\n",
      "dest address: 1\n",
      "src address: 17\n",
      "UA frame, Final: 1\n",
      "HCS: 0xC4AA\n",
      "information：81 80 14 05 02 04 CB 06 02 04 CB 07 04 00 00 00 01 08 04 00 00 00 01\n",
      "FCS: 0xB1FB\n"
     ]
    }
   ],
   "source": [
    "test(hdlc('7E A0 21 03 02 23 73 AA C4 81 80 14 05 02 04 CB 06 02 04 CB 07 04 00 00 00 01 08 04 00 00 00 01 FB B1 7E'))"
   ]
  },
  {
   "cell_type": "markdown",
   "metadata": {},
   "source": [
    "#### UA"
   ]
  },
  {
   "cell_type": "code",
   "execution_count": 21,
   "metadata": {
    "ExecuteTime": {
     "end_time": "2020-01-14T08:01:42.675223Z",
     "start_time": "2020-01-14T08:01:42.670235Z"
    }
   },
   "outputs": [
    {
     "name": "stdout",
     "output_type": "stream",
     "text": [
      "information：81 80 14 05 02 07 EE 06 02 07 EE 07 04 00 00 00 01 08 04 00 00 00 01\n",
      "format_identifier：81\n",
      "group_identifier：80\n",
      "group_length：20\n",
      "maximum information field length – transmit：2030\n",
      "maximum information field length – receive：2030\n",
      "window size, transmit：1\n",
      "window size, receive：1\n"
     ]
    }
   ],
   "source": [
    "test(SNRMorUAInfo('81 80 14 05 02 07 EE 06 02 07 EE 07 04 00 00 00 01 08 04 00 00 00 01'))"
   ]
  },
  {
   "cell_type": "markdown",
   "metadata": {},
   "source": [
    "## Frame 7"
   ]
  },
  {
   "cell_type": "markdown",
   "metadata": {},
   "source": [
    "### StoC"
   ]
  },
  {
   "cell_type": "code",
   "execution_count": 22,
   "metadata": {
    "ExecuteTime": {
     "end_time": "2020-01-14T08:01:42.689184Z",
     "start_time": "2020-01-14T08:01:42.681209Z"
    },
    "scrolled": false
   },
   "outputs": [
    {
     "name": "stdout",
     "output_type": "stream",
     "text": [
      "flag: 7E\n",
      "format type: 0A,segmentation: 0,frame length sub-field: 108\n",
      "dest address: 17\n",
      "src address: 1\n",
      "I frame, receive: 0, send: 0, P/F: 1\n",
      "HCS: 0x4E0E\n",
      "information：E6 E6 00 60 5D A1 09 06 07 60 85 74 05 08 01 03 A6 0A 04 08 00 00 00 00 00 00 98 00 8A 02 07 80 8B 07 60 85 74 05 08 02 05 AC 12 80 10 A0 DC 7D E1 4E 1B 1A A8 0F A8 78 8A B6 33 8A 8B BE 23 04 21 21 1F 30 00 00 00 01 DD E8 8C 68 D1 BB B7 CF 57 F7 2B 23 BC DB C5 2F 45 F2 2C EF C7 8F 53 E3 49 65\n",
      "FCS: 0xAD48\n"
     ]
    }
   ],
   "source": [
    "test(hdlc('7E A0 6C 02 23 03 10 0E 4E E6 E6 00 60 5D A1 09 06 07 60 85 74 05 08 01 03 A6 0A 04 08 00 00 00 00 00 00 98 00 8A 02 07 80 8B 07 60 85 74 05 08 02 05 AC 12 80 10 A0 DC 7D E1 4E 1B 1A A8 0F A8 78 8A B6 33 8A 8B BE 23 04 21 21 1F 30 00 00 00 01 DD E8 8C 68 D1 BB B7 CF 57 F7 2B 23 BC DB C5 2F 45 F2 2C EF C7 8F 53 E3 49 65 48 AD 7E'))"
   ]
  },
  {
   "cell_type": "markdown",
   "metadata": {},
   "source": [
    "Send Decrypt: 01 00 00 00 06 5F 1F 04 00 60 1F 3F FF FD"
   ]
  },
  {
   "cell_type": "markdown",
   "metadata": {},
   "source": [
    "#### I"
   ]
  },
  {
   "cell_type": "code",
   "execution_count": 34,
   "metadata": {
    "ExecuteTime": {
     "end_time": "2020-01-14T08:25:52.259922Z",
     "start_time": "2020-01-14T08:25:52.251944Z"
    }
   },
   "outputs": [
    {
     "name": "stdout",
     "output_type": "stream",
     "text": [
      "information：E6 E6 00 60 5D A1 09 06 07 60 85 74 05 08 01 03 A6 0A 04 08 00 00 00 00 00 00 98 00 8A 02 07 80 8B 07 60 85 74 05 08 02 05 AC 12 80 10 A0 DC 7D E1 4E 1B 1A A8 0F A8 78 8A B6 33 8A 8B BE 23 04 21 21 1F 30 00 00 00 01 DD E8 8C 68 D1 BB B7 CF 57 F7 2B 23 BC DB C5 2F 45 F2 2C EF C7 8F 53 E3 49 65\n",
      "Destination_LSAP：E6\n",
      "Source_LASP：E6\n",
      "LLC_Quality：0\n",
      "I_Information: 60 5D A1 09 06 07 60 85 74 05 08 01 03 A6 0A 04 08 00 00 00 00 00 00 98 00 8A 02 07 80 8B 07 60 85 74 05 08 02 05 AC 12 80 10 A0 DC 7D E1 4E 1B 1A A8 0F A8 78 8A B6 33 8A 8B BE 23 04 21 21 1F 30 00 00 00 01 DD E8 8C 68 D1 BB B7 CF 57 F7 2B 23 BC DB C5 2F 45 F2 2C EF C7 8F 53 E3 49 65\n"
     ]
    }
   ],
   "source": [
    "test(IInfo('E6 E6 00 60 5D A1 09 06 07 60 85 74 05 08 01 03 A6 0A 04 08 00 00 00 00 00 00 98 00 8A 02 07 80 8B 07 60 85 74 05 08 02 05 AC 12 80 10 A0 DC 7D E1 4E 1B 1A A8 0F A8 78 8A B6 33 8A 8B BE 23 04 21 21 1F 30 00 00 00 01 DD E8 8C 68 D1 BB B7 CF 57 F7 2B 23 BC DB C5 2F 45 F2 2C EF C7 8F 53 E3 49 65'))"
   ]
  },
  {
   "cell_type": "markdown",
   "metadata": {},
   "source": [
    "```XML\n",
    "<AssociationRequest>\n",
    "  <ApplicationContextName Value=\"LNC\" />\n",
    "  <CallingAPTitle Value=\"0000000000009800\" />\n",
    "  <SenderACSERequirements Value=\"1\" />\n",
    "  <MechanismName Value=\"HIGH_SECURITY_GMAC\" />\n",
    "  <CallingAuthenticationValue Value=\"A0DC7DE14E1B1AA80FA8788AB6338A8B\" />\n",
    "  <CipheredInitiateRequest Value=\"211F3000000001DDE88C68D1BBB7CF57F72B23BCDBC52F45F22CEFC78F53E34965\" />\n",
    "</AssociationRequest>\n",
    "```"
   ]
  },
  {
   "cell_type": "markdown",
   "metadata": {},
   "source": [
    "### CtoS"
   ]
  },
  {
   "cell_type": "code",
   "execution_count": 23,
   "metadata": {
    "ExecuteTime": {
     "end_time": "2020-01-14T08:01:42.699159Z",
     "start_time": "2020-01-14T08:01:42.694175Z"
    },
    "scrolled": true
   },
   "outputs": [
    {
     "name": "stdout",
     "output_type": "stream",
     "text": [
      "flag: 7E\n",
      "format type: 0A,segmentation: 0,frame length sub-field: 120\n",
      "dest address: 1\n",
      "src address: 17\n",
      "I frame, receive: 1, send: 0, P/F: 1\n",
      "HCS: 0x9033\n",
      "information：E6 E7 00 61 69 A1 09 06 07 60 85 74 05 08 01 03 A2 03 02 01 00 A3 05 A1 03 02 01 0E A4 0A 04 08 4B 46 4D 67 70 00 00 0C 88 02 07 80 89 07 60 85 74 05 08 02 05 AA 12 80 10 F2 98 46 58 61 7C 09 31 95 8D 3A 0C 16 F9 FE 4E BE 23 04 21 28 1F 30 00 00 00 01 A8 AA 12 65 F6 4A 08 96 77 77 51 7E 16 97 B5 3E 06 39 38 A3 13 8B 1B C5 A5 59\n",
      "FCS: 0xD3D7\n"
     ]
    }
   ],
   "source": [
    "test(hdlc('7E A0 78 03 02 23 30 33 90 E6 E7 00 61 69 A1 09 06 07 60 85 74 05 08 01 03 A2 03 02 01 00 A3 05 A1 03 02 01 0E A4 0A 04 08 4B 46 4D 67 70 00 00 0C 88 02 07 80 89 07 60 85 74 05 08 02 05 AA 12 80 10 F2 98 46 58 61 7C 09 31 95 8D 3A 0C 16 F9 FE 4E BE 23 04 21 28 1F 30 00 00 00 01 A8 AA 12 65 F6 4A 08 96 77 77 51 7E 16 97 B5 3E 06 39 38 A3 13 8B 1B C5 A5 59 D7 D3 7E'))"
   ]
  },
  {
   "cell_type": "markdown",
   "metadata": {},
   "source": [
    "Recv Decrypt: 08 00 06 5F 1F 04 00 60 1A 1D 04 C8 00 07"
   ]
  },
  {
   "cell_type": "markdown",
   "metadata": {},
   "source": [
    "#### I"
   ]
  },
  {
   "cell_type": "code",
   "execution_count": 35,
   "metadata": {
    "ExecuteTime": {
     "end_time": "2020-01-14T08:30:56.700609Z",
     "start_time": "2020-01-14T08:30:56.695622Z"
    }
   },
   "outputs": [
    {
     "name": "stdout",
     "output_type": "stream",
     "text": [
      "information：E6 E7 00 61 69 A1 09 06 07 60 85 74 05 08 01 03 A2 03 02 01 00 A3 05 A1 03 02 01 0E A4 0A 04 08 4B 46 4D 67 70 00 00 0C 88 02 07 80 89 07 60 85 74 05 08 02 05 AA 12 80 10 F2 98 46 58 61 7C 09 31 95 8D 3A 0C 16 F9 FE 4E BE 23 04 21 28 1F 30 00 00 00 01 A8 AA 12 65 F6 4A 08 96 77 77 51 7E 16 97 B5 3E 06 39 38 A3 13 8B 1B C5 A5 59\n",
      "Destination_LSAP：E6\n",
      "Source_LASP：E7\n",
      "LLC_Quality：0\n",
      "I_Information: 61 69 A1 09 06 07 60 85 74 05 08 01 03 A2 03 02 01 00 A3 05 A1 03 02 01 0E A4 0A 04 08 4B 46 4D 67 70 00 00 0C 88 02 07 80 89 07 60 85 74 05 08 02 05 AA 12 80 10 F2 98 46 58 61 7C 09 31 95 8D 3A 0C 16 F9 FE 4E BE 23 04 21 28 1F 30 00 00 00 01 A8 AA 12 65 F6 4A 08 96 77 77 51 7E 16 97 B5 3E 06 39 38 A3 13 8B 1B C5 A5 59\n"
     ]
    }
   ],
   "source": [
    "test(IInfo('E6 E7 00 61 69 A1 09 06 07 60 85 74 05 08 01 03 A2 03 02 01 00 A3 05 A1 03 02 01 0E A4 0A 04 08 4B 46 4D 67 70 00 00 0C 88 02 07 80 89 07 60 85 74 05 08 02 05 AA 12 80 10 F2 98 46 58 61 7C 09 31 95 8D 3A 0C 16 F9 FE 4E BE 23 04 21 28 1F 30 00 00 00 01 A8 AA 12 65 F6 4A 08 96 77 77 51 7E 16 97 B5 3E 06 39 38 A3 13 8B 1B C5 A5 59'))"
   ]
  },
  {
   "cell_type": "markdown",
   "metadata": {},
   "source": [
    "```XML\n",
    "<AssociationResponse>\n",
    "  <ApplicationContextName Value=\"LNC\" />\n",
    "  <ResponderACSERequirement Value=\"1\" />\n",
    "  <RespondingAPTitle Value=\"4B464D677000000C\" />\n",
    "  <MechanismName Value=\"HIGH_SECURITY_GMAC\" />\n",
    "  <RespondingAuthenticationValue Value=\"F2984658617C0931958D3A0C16F9FE4E\" />\n",
    "  <AssociationResult Value=\"00\" />\n",
    "  <ResultSourceDiagnostic>\n",
    "    <AcseServiceUser Value=\"0E\" />\n",
    "  </ResultSourceDiagnostic>\n",
    "  <CipheredInitiateResponse Value=\"281F3000000001A8AA1265F64A08967777517E1697B53E063938A3138B1BC5A559\" />\n",
    "</AssociationResponse>\n",
    "```"
   ]
  },
  {
   "cell_type": "markdown",
   "metadata": {},
   "source": [
    "## Frame 8"
   ]
  },
  {
   "cell_type": "markdown",
   "metadata": {},
   "source": [
    "### StoC"
   ]
  },
  {
   "cell_type": "code",
   "execution_count": 24,
   "metadata": {
    "ExecuteTime": {
     "end_time": "2020-01-14T08:01:42.706140Z",
     "start_time": "2020-01-14T08:01:42.701154Z"
    },
    "scrolled": false
   },
   "outputs": [
    {
     "name": "stdout",
     "output_type": "stream",
     "text": [
      "flag: 7E\n",
      "format type: 0A,segmentation: 0,frame length sub-field: 73\n",
      "dest address: 17\n",
      "src address: 1\n",
      "I frame, receive: 1, send: 0, P/F: 1\n",
      "HCS: 0x0ADB\n",
      "information：E6 E6 00 DB 08 00 00 00 00 00 00 98 00 31 30 00 00 00 02 79 B6 58 51 3B F4 7A 95 4D E4 27 94 41 61 03 70 15 FC 40 98 4A 6C 5F 71 85 40 2D A7 D2 1F 7E 9A 6A 59 E5 3E 10 CE 30 37 C7 94 67 B0\n",
      "FCS: 0xD34B\n"
     ]
    }
   ],
   "source": [
    "test(hdlc('7E A0 49 02 23 03 32 DB 0A E6 E6 00 DB 08 00 00 00 00 00 00 98 00 31 30 00 00 00 02 79 B6 58 51 3B F4 7A 95 4D E4 27 94 41 61 03 70 15 FC 40 98 4A 6C 5F 71 85 40 2D A7 D2 1F 7E 9A 6A 59 E5 3E 10 CE 30 37 C7 94 67 B0 4B D3 7E'))"
   ]
  },
  {
   "cell_type": "markdown",
   "metadata": {},
   "source": [
    "Send Decrypt: C3 01 C1 00 0F 00 00 28 00 00 FF 01 01 09 11 30 00 00 00 02 49 E0 33 97 53 E8 EE E8 7A BF 24 78"
   ]
  },
  {
   "cell_type": "markdown",
   "metadata": {},
   "source": [
    "#### I"
   ]
  },
  {
   "cell_type": "code",
   "execution_count": 36,
   "metadata": {
    "ExecuteTime": {
     "end_time": "2020-01-14T08:31:35.097847Z",
     "start_time": "2020-01-14T08:31:35.091858Z"
    }
   },
   "outputs": [
    {
     "name": "stdout",
     "output_type": "stream",
     "text": [
      "information：E6 E6 00 DB 08 00 00 00 00 00 00 98 00 31 30 00 00 00 02 79 B6 58 51 3B F4 7A 95 4D E4 27 94 41 61 03 70 15 FC 40 98 4A 6C 5F 71 85 40 2D A7 D2 1F 7E 9A 6A 59 E5 3E 10 CE 30 37 C7 94 67 B0\n",
      "Destination_LSAP：E6\n",
      "Source_LASP：E6\n",
      "LLC_Quality：0\n",
      "I_Information: DB 08 00 00 00 00 00 00 98 00 31 30 00 00 00 02 79 B6 58 51 3B F4 7A 95 4D E4 27 94 41 61 03 70 15 FC 40 98 4A 6C 5F 71 85 40 2D A7 D2 1F 7E 9A 6A 59 E5 3E 10 CE 30 37 C7 94 67 B0\n"
     ]
    }
   ],
   "source": [
    "test(IInfo('E6 E6 00 DB 08 00 00 00 00 00 00 98 00 31 30 00 00 00 02 79 B6 58 51 3B F4 7A 95 4D E4 27 94 41 61 03 70 15 FC 40 98 4A 6C 5F 71 85 40 2D A7 D2 1F 7E 9A 6A 59 E5 3E 10 CE 30 37 C7 94 67 B0'))"
   ]
  },
  {
   "cell_type": "markdown",
   "metadata": {},
   "source": [
    "### CtoS"
   ]
  },
  {
   "cell_type": "code",
   "execution_count": 25,
   "metadata": {
    "ExecuteTime": {
     "end_time": "2020-01-14T08:01:42.714118Z",
     "start_time": "2020-01-14T08:01:42.709131Z"
    },
    "scrolled": true
   },
   "outputs": [
    {
     "name": "stdout",
     "output_type": "stream",
     "text": [
      "flag: 7E\n",
      "format type: 0A,segmentation: 0,frame length sub-field: 120\n",
      "dest address: 1\n",
      "src address: 17\n",
      "I frame, receive: 1, send: 0, P/F: 1\n",
      "HCS: 0x9033\n",
      "information：E6 E7 00 61 69 A1 09 06 07 60 85 74 05 08 01 03 A2 03 02 01 00 A3 05 A1 03 02 01 0E A4 0A 04 08 4B 46 4D 67 70 00 00 0C 88 02 07 80 89 07 60 85 74 05 08 02 05 AA 12 80 10 F2 98 46 58 61 7C 09 31 95 8D 3A 0C 16 F9 FE 4E BE 23 04 21 28 1F 30 00 00 00 01 A8 AA 12 65 F6 4A 08 96 77 77 51 7E 16 97 B5 3E 06 39 38 A3 13 8B 1B C5 A5 59\n",
      "FCS: 0xD3D7\n"
     ]
    }
   ],
   "source": [
    "test(hdlc('7E A0 78 03 02 23 30 33 90 E6 E7 00 61 69 A1 09 06 07 60 85 74 05 08 01 03 A2 03 02 01 00 A3 05 A1 03 02 01 0E A4 0A 04 08 4B 46 4D 67 70 00 00 0C 88 02 07 80 89 07 60 85 74 05 08 02 05 AA 12 80 10 F2 98 46 58 61 7C 09 31 95 8D 3A 0C 16 F9 FE 4E BE 23 04 21 28 1F 30 00 00 00 01 A8 AA 12 65 F6 4A 08 96 77 77 51 7E 16 97 B5 3E 06 39 38 A3 13 8B 1B C5 A5 59 D7 D3 7E'))"
   ]
  },
  {
   "cell_type": "markdown",
   "metadata": {},
   "source": [
    "Recv Decrypt: C7 01 C1 00 01 00 09 11 30 00 00 00 02 51 62 EF 19 F7 E0 AD 9B 1E 00 08 46"
   ]
  },
  {
   "cell_type": "markdown",
   "metadata": {},
   "source": [
    "#### I"
   ]
  },
  {
   "cell_type": "code",
   "execution_count": 37,
   "metadata": {
    "ExecuteTime": {
     "end_time": "2020-01-14T08:32:39.490344Z",
     "start_time": "2020-01-14T08:32:39.484317Z"
    }
   },
   "outputs": [
    {
     "name": "stdout",
     "output_type": "stream",
     "text": [
      "information：E6 E7 00 61 69 A1 09 06 07 60 85 74 05 08 01 03 A2 03 02 01 00 A3 05 A1 03 02 01 0E A4 0A 04 08 4B 46 4D 67 70 00 00 0C 88 02 07 80 89 07 60 85 74 05 08 02 05 AA 12 80 10 F2 98 46 58 61 7C 09 31 95 8D 3A 0C 16 F9 FE 4E BE 23 04 21 28 1F 30 00 00 00 01 A8 AA 12 65 F6 4A 08 96 77 77 51 7E 16 97 B5 3E 06 39 38 A3 13 8B 1B C5 A5 59\n",
      "Destination_LSAP：E6\n",
      "Source_LASP：E7\n",
      "LLC_Quality：0\n",
      "I_Information: 61 69 A1 09 06 07 60 85 74 05 08 01 03 A2 03 02 01 00 A3 05 A1 03 02 01 0E A4 0A 04 08 4B 46 4D 67 70 00 00 0C 88 02 07 80 89 07 60 85 74 05 08 02 05 AA 12 80 10 F2 98 46 58 61 7C 09 31 95 8D 3A 0C 16 F9 FE 4E BE 23 04 21 28 1F 30 00 00 00 01 A8 AA 12 65 F6 4A 08 96 77 77 51 7E 16 97 B5 3E 06 39 38 A3 13 8B 1B C5 A5 59\n"
     ]
    }
   ],
   "source": [
    "test(IInfo('E6 E7 00 61 69 A1 09 06 07 60 85 74 05 08 01 03 A2 03 02 01 00 A3 05 A1 03 02 01 0E A4 0A 04 08 4B 46 4D 67 70 00 00 0C 88 02 07 80 89 07 60 85 74 05 08 02 05 AA 12 80 10 F2 98 46 58 61 7C 09 31 95 8D 3A 0C 16 F9 FE 4E BE 23 04 21 28 1F 30 00 00 00 01 A8 AA 12 65 F6 4A 08 96 77 77 51 7E 16 97 B5 3E 06 39 38 A3 13 8B 1B C5 A5 59'))"
   ]
  },
  {
   "cell_type": "markdown",
   "metadata": {},
   "source": [
    "```xml\n",
    "<AssociationResponse>\n",
    "  <ApplicationContextName Value=\"LNC\" />\n",
    "  <ResponderACSERequirement Value=\"1\" />\n",
    "  <RespondingAPTitle Value=\"4B464D677000000C\" />\n",
    "  <MechanismName Value=\"HIGH_SECURITY_GMAC\" />\n",
    "  <RespondingAuthenticationValue Value=\"F2984658617C0931958D3A0C16F9FE4E\" />\n",
    "  <AssociationResult Value=\"00\" />\n",
    "  <ResultSourceDiagnostic>\n",
    "    <AcseServiceUser Value=\"0E\" />\n",
    "  </ResultSourceDiagnostic>\n",
    "  <CipheredInitiateResponse Value=\"281F3000000001A8AA1265F64A08967777517E1697B53E063938A3138B1BC5A559\" />\n",
    "</AssociationResponse>\n",
    "```"
   ]
  }
 ],
 "metadata": {
  "kernelspec": {
   "display_name": "Python 3",
   "language": "python",
   "name": "python3"
  },
  "language_info": {
   "codemirror_mode": {
    "name": "ipython",
    "version": 3
   },
   "file_extension": ".py",
   "mimetype": "text/x-python",
   "name": "python",
   "nbconvert_exporter": "python",
   "pygments_lexer": "ipython3",
   "version": "3.7.2"
  },
  "toc": {
   "base_numbering": 1,
   "nav_menu": {},
   "number_sections": true,
   "sideBar": true,
   "skip_h1_title": false,
   "title_cell": "Table of Contents",
   "title_sidebar": "Contents",
   "toc_cell": false,
   "toc_position": {
    "height": "calc(100% - 180px)",
    "left": "10px",
    "top": "150px",
    "width": "243.475px"
   },
   "toc_section_display": true,
   "toc_window_display": true
  },
  "varInspector": {
   "cols": {
    "lenName": 16,
    "lenType": 16,
    "lenVar": 40
   },
   "kernels_config": {
    "python": {
     "delete_cmd_postfix": "",
     "delete_cmd_prefix": "del ",
     "library": "var_list.py",
     "varRefreshCmd": "print(var_dic_list())"
    },
    "r": {
     "delete_cmd_postfix": ") ",
     "delete_cmd_prefix": "rm(",
     "library": "var_list.r",
     "varRefreshCmd": "cat(var_dic_list()) "
    }
   },
   "types_to_exclude": [
    "module",
    "function",
    "builtin_function_or_method",
    "instance",
    "_Feature"
   ],
   "window_display": false
  }
 },
 "nbformat": 4,
 "nbformat_minor": 2
}
